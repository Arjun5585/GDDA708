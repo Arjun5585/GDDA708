{
 "cells": [
  {
   "cell_type": "code",
   "execution_count": 3,
   "id": "e5e628fb-0584-455a-a5e3-eafe8a6a9f58",
   "metadata": {},
   "outputs": [],
   "source": [
    "import pandas as pd\n",
    "import numpy as np\n",
    "from sklearn.linear_model import LinearRegression, Ridge, Lasso\n",
    "from statsmodels.stats.outliers_influence import variance_inflation_factor\n",
    "from sklearn.preprocessing import MinMaxScaler\n",
    "from sklearn.preprocessing import LabelEncoder\n",
    "from sklearn.model_selection import train_test_split\n",
    "from sklearn.metrics import mean_squared_error, r2_score\n",
    "from sklearn.model_selection import GridSearchCV, RandomizedSearchCV, cross_val_score\n",
    "from sklearn.preprocessing import StandardScaler\n",
    "import seaborn as sns\n",
    "import matplotlib.pyplot as plt"
   ]
  },
  {
   "cell_type": "code",
   "execution_count": 4,
   "id": "b211c11c-b380-4761-8aa5-1ff3a3064628",
   "metadata": {},
   "outputs": [],
   "source": [
    "#loading the dataset\n",
    "df= pd.read_csv('cars.csv')"
   ]
  },
  {
   "cell_type": "code",
   "execution_count": 5,
   "id": "5dfaf7e4-4442-4012-948f-c6719bc366b1",
   "metadata": {},
   "outputs": [],
   "source": [
    "#identifying the duplicates in dataset\n",
    "duplicates = df[df.duplicated(keep=False)]"
   ]
  },
  {
   "cell_type": "code",
   "execution_count": 6,
   "id": "b7a47bdf-0dfc-4b0a-9af7-132f07415f70",
   "metadata": {},
   "outputs": [],
   "source": [
    "#Droping the duplicated values\n",
    "df = df.drop_duplicates()"
   ]
  },
  {
   "cell_type": "code",
   "execution_count": 7,
   "id": "cf92cdfc-091b-4b3d-b65a-99981ee0dd1b",
   "metadata": {},
   "outputs": [
    {
     "name": "stderr",
     "output_type": "stream",
     "text": [
      "/var/folders/hk/jrmj5krn1m13rs2ldn9zl6q40000gn/T/ipykernel_17831/4015291068.py:2: FutureWarning: A value is trying to be set on a copy of a DataFrame or Series through chained assignment using an inplace method.\n",
      "The behavior will change in pandas 3.0. This inplace method will never work because the intermediate object on which we are setting values always behaves as a copy.\n",
      "\n",
      "For example, when doing 'df[col].method(value, inplace=True)', try using 'df.method({col: value}, inplace=True)' or df[col] = df[col].method(value) instead, to perform the operation inplace on the original object.\n",
      "\n",
      "\n",
      "  df['Brand'].fillna(df['Brand'].mode().iloc[0], inplace=True)\n"
     ]
    }
   ],
   "source": [
    "#handling  non numerical values \n",
    "df['Brand'].fillna(df['Brand'].mode().iloc[0], inplace=True)\n"
   ]
  },
  {
   "cell_type": "code",
   "execution_count": 8,
   "id": "ae3bdf03-2044-4461-b2f5-3625576b760c",
   "metadata": {},
   "outputs": [
    {
     "name": "stdout",
     "output_type": "stream",
     "text": [
      "Skewness of Mileage: 0.44\n",
      "Missing values in 'Mileage' filled with mean: 17.08\n",
      "Skewness of Seats: 1.71\n",
      "Missing values in 'Seats' filled with median: 5.00\n",
      "Skewness of Price: 0.57\n",
      "Missing values in 'Price' filled with median: 1400000.00\n"
     ]
    },
    {
     "name": "stderr",
     "output_type": "stream",
     "text": [
      "/var/folders/hk/jrmj5krn1m13rs2ldn9zl6q40000gn/T/ipykernel_17831/609868206.py:11: FutureWarning: A value is trying to be set on a copy of a DataFrame or Series through chained assignment using an inplace method.\n",
      "The behavior will change in pandas 3.0. This inplace method will never work because the intermediate object on which we are setting values always behaves as a copy.\n",
      "\n",
      "For example, when doing 'df[col].method(value, inplace=True)', try using 'df.method({col: value}, inplace=True)' or df[col] = df[col].method(value) instead, to perform the operation inplace on the original object.\n",
      "\n",
      "\n",
      "  df[feature].fillna(df[feature].mean(), inplace=True)\n",
      "/var/folders/hk/jrmj5krn1m13rs2ldn9zl6q40000gn/T/ipykernel_17831/609868206.py:14: FutureWarning: A value is trying to be set on a copy of a DataFrame or Series through chained assignment using an inplace method.\n",
      "The behavior will change in pandas 3.0. This inplace method will never work because the intermediate object on which we are setting values always behaves as a copy.\n",
      "\n",
      "For example, when doing 'df[col].method(value, inplace=True)', try using 'df.method({col: value}, inplace=True)' or df[col] = df[col].method(value) instead, to perform the operation inplace on the original object.\n",
      "\n",
      "\n",
      "  df[feature].fillna(df[feature].median(), inplace=True)\n"
     ]
    }
   ],
   "source": [
    "# Features to analyze\n",
    "features = ['Mileage', 'Seats', 'Price']\n",
    "\n",
    "# Check skewness for each feature\n",
    "for feature in features:\n",
    "    skewness = df[feature].skew()\n",
    "    print(f\"Skewness of {feature}: {skewness:.2f}\")\n",
    "    \n",
    "    # Handle missing values based on skewness\n",
    "    if abs(skewness) < 0.5:  # Near-normal distribution\n",
    "        df[feature].fillna(df[feature].mean(), inplace=True)\n",
    "        print(f\"Missing values in '{feature}' filled with mean: {df[feature].mean():.2f}\")\n",
    "    else:  # Skewed distribution\n",
    "        df[feature].fillna(df[feature].median(), inplace=True)\n",
    "        print(f\"Missing values in '{feature}' filled with median: {df[feature].median():.2f}\")\n"
   ]
  },
  {
   "cell_type": "code",
   "execution_count": 9,
   "id": "13f0250d-9382-4ba5-899e-45dcce3723c5",
   "metadata": {},
   "outputs": [
    {
     "data": {
      "text/html": [
       "<div>\n",
       "<style scoped>\n",
       "    .dataframe tbody tr th:only-of-type {\n",
       "        vertical-align: middle;\n",
       "    }\n",
       "\n",
       "    .dataframe tbody tr th {\n",
       "        vertical-align: top;\n",
       "    }\n",
       "\n",
       "    .dataframe thead th {\n",
       "        text-align: right;\n",
       "    }\n",
       "</style>\n",
       "<table border=\"1\" class=\"dataframe\">\n",
       "  <thead>\n",
       "    <tr style=\"text-align: right;\">\n",
       "      <th></th>\n",
       "      <th>Car_ID</th>\n",
       "      <th>Brand</th>\n",
       "      <th>Model</th>\n",
       "      <th>Year</th>\n",
       "      <th>Kilometers_Driven</th>\n",
       "      <th>Fuel_Type</th>\n",
       "      <th>Transmission</th>\n",
       "      <th>Owner_Type</th>\n",
       "      <th>Mileage</th>\n",
       "      <th>Engine</th>\n",
       "      <th>Power</th>\n",
       "      <th>Seats</th>\n",
       "      <th>Price</th>\n",
       "    </tr>\n",
       "  </thead>\n",
       "  <tbody>\n",
       "    <tr>\n",
       "      <th>0</th>\n",
       "      <td>1</td>\n",
       "      <td>Toyota</td>\n",
       "      <td>Corolla</td>\n",
       "      <td>2018</td>\n",
       "      <td>50000</td>\n",
       "      <td>Petrol</td>\n",
       "      <td>Manual</td>\n",
       "      <td>First</td>\n",
       "      <td>15.0</td>\n",
       "      <td>1498</td>\n",
       "      <td>108</td>\n",
       "      <td>5.0</td>\n",
       "      <td>800000.0</td>\n",
       "    </tr>\n",
       "    <tr>\n",
       "      <th>4</th>\n",
       "      <td>5</td>\n",
       "      <td>Hyundai</td>\n",
       "      <td>Sonata</td>\n",
       "      <td>2016</td>\n",
       "      <td>160000</td>\n",
       "      <td>Diesel</td>\n",
       "      <td>Automatic</td>\n",
       "      <td>Second</td>\n",
       "      <td>18.0</td>\n",
       "      <td>1999</td>\n",
       "      <td>194</td>\n",
       "      <td>5.0</td>\n",
       "      <td>850000.0</td>\n",
       "    </tr>\n",
       "    <tr>\n",
       "      <th>20</th>\n",
       "      <td>21</td>\n",
       "      <td>Toyota</td>\n",
       "      <td>Innova</td>\n",
       "      <td>2018</td>\n",
       "      <td>50000</td>\n",
       "      <td>Diesel</td>\n",
       "      <td>Manual</td>\n",
       "      <td>First</td>\n",
       "      <td>13.0</td>\n",
       "      <td>2755</td>\n",
       "      <td>171</td>\n",
       "      <td>5.0</td>\n",
       "      <td>1400000.0</td>\n",
       "    </tr>\n",
       "    <tr>\n",
       "      <th>24</th>\n",
       "      <td>25</td>\n",
       "      <td>Mahindra</td>\n",
       "      <td>Thar</td>\n",
       "      <td>2021</td>\n",
       "      <td>1000</td>\n",
       "      <td>Diesel</td>\n",
       "      <td>Manual</td>\n",
       "      <td>First</td>\n",
       "      <td>15.0</td>\n",
       "      <td>2184</td>\n",
       "      <td>130</td>\n",
       "      <td>4.0</td>\n",
       "      <td>1200000.0</td>\n",
       "    </tr>\n",
       "  </tbody>\n",
       "</table>\n",
       "</div>"
      ],
      "text/plain": [
       "    Car_ID     Brand    Model  Year  Kilometers_Driven Fuel_Type Transmission  \\\n",
       "0        1    Toyota  Corolla  2018              50000    Petrol       Manual   \n",
       "4        5   Hyundai   Sonata  2016             160000    Diesel    Automatic   \n",
       "20      21    Toyota   Innova  2018              50000    Diesel       Manual   \n",
       "24      25  Mahindra     Thar  2021               1000    Diesel       Manual   \n",
       "\n",
       "   Owner_Type  Mileage  Engine  Power  Seats      Price  \n",
       "0       First     15.0    1498    108    5.0   800000.0  \n",
       "4      Second     18.0    1999    194    5.0   850000.0  \n",
       "20      First     13.0    2755    171    5.0  1400000.0  \n",
       "24      First     15.0    2184    130    4.0  1200000.0  "
      ]
     },
     "execution_count": 9,
     "metadata": {},
     "output_type": "execute_result"
    }
   ],
   "source": [
    "#Identifying the outliers\n",
    "Q1 = df['Kilometers_Driven'].quantile(0.25)\n",
    "Q3 = df['Kilometers_Driven'].quantile(0.75)\n",
    "\n",
    "IQR = Q3 - Q1\n",
    "\n",
    "lower_bound = Q1 - 1.5 * IQR\n",
    "upper_bound = Q3 + 1.5 * IQR\n",
    "\n",
    "outliers = df[(df['Kilometers_Driven'] < lower_bound) | (df['Kilometers_Driven'] > upper_bound)]\n",
    "outliers"
   ]
  },
  {
   "cell_type": "code",
   "execution_count": 10,
   "id": "c5208ae4-5017-4adc-8b19-bd73b6cbbee2",
   "metadata": {},
   "outputs": [
    {
     "ename": "KeyError",
     "evalue": "'outliers_iqr'",
     "output_type": "error",
     "traceback": [
      "\u001b[0;31m---------------------------------------------------------------------------\u001b[0m",
      "\u001b[0;31mKeyError\u001b[0m                                  Traceback (most recent call last)",
      "File \u001b[0;32m/Applications/anaconda3/lib/python3.12/site-packages/pandas/core/indexes/base.py:3805\u001b[0m, in \u001b[0;36mIndex.get_loc\u001b[0;34m(self, key)\u001b[0m\n\u001b[1;32m   3804\u001b[0m \u001b[38;5;28;01mtry\u001b[39;00m:\n\u001b[0;32m-> 3805\u001b[0m     \u001b[38;5;28;01mreturn\u001b[39;00m \u001b[38;5;28mself\u001b[39m\u001b[38;5;241m.\u001b[39m_engine\u001b[38;5;241m.\u001b[39mget_loc(casted_key)\n\u001b[1;32m   3806\u001b[0m \u001b[38;5;28;01mexcept\u001b[39;00m \u001b[38;5;167;01mKeyError\u001b[39;00m \u001b[38;5;28;01mas\u001b[39;00m err:\n",
      "File \u001b[0;32mindex.pyx:167\u001b[0m, in \u001b[0;36mpandas._libs.index.IndexEngine.get_loc\u001b[0;34m()\u001b[0m\n",
      "File \u001b[0;32mindex.pyx:196\u001b[0m, in \u001b[0;36mpandas._libs.index.IndexEngine.get_loc\u001b[0;34m()\u001b[0m\n",
      "File \u001b[0;32mpandas/_libs/hashtable_class_helper.pxi:7081\u001b[0m, in \u001b[0;36mpandas._libs.hashtable.PyObjectHashTable.get_item\u001b[0;34m()\u001b[0m\n",
      "File \u001b[0;32mpandas/_libs/hashtable_class_helper.pxi:7089\u001b[0m, in \u001b[0;36mpandas._libs.hashtable.PyObjectHashTable.get_item\u001b[0;34m()\u001b[0m\n",
      "\u001b[0;31mKeyError\u001b[0m: 'outliers_iqr'",
      "\nThe above exception was the direct cause of the following exception:\n",
      "\u001b[0;31mKeyError\u001b[0m                                  Traceback (most recent call last)",
      "Cell \u001b[0;32mIn[10], line 8\u001b[0m\n\u001b[1;32m      3\u001b[0m plt\u001b[38;5;241m.\u001b[39mfigure(figsize\u001b[38;5;241m=\u001b[39m(\u001b[38;5;241m12\u001b[39m, \u001b[38;5;241m6\u001b[39m))\n\u001b[1;32m      4\u001b[0m plt\u001b[38;5;241m.\u001b[39mplot(df\u001b[38;5;241m.\u001b[39mindex, \n\u001b[1;32m      5\u001b[0m          df[\u001b[38;5;124m'\u001b[39m\u001b[38;5;124mKilometers_Driven\u001b[39m\u001b[38;5;124m'\u001b[39m], \n\u001b[1;32m      6\u001b[0m          label\u001b[38;5;241m=\u001b[39m\u001b[38;5;124m'\u001b[39m\u001b[38;5;124mKilometers_Driven\u001b[39m\u001b[38;5;124m'\u001b[39m)\n\u001b[0;32m----> 8\u001b[0m plt\u001b[38;5;241m.\u001b[39mplot(df[df[\u001b[38;5;124m'\u001b[39m\u001b[38;5;124moutliers_iqr\u001b[39m\u001b[38;5;124m'\u001b[39m]]\u001b[38;5;241m.\u001b[39mindex, \n\u001b[1;32m      9\u001b[0m          df[df[\u001b[38;5;124m'\u001b[39m\u001b[38;5;124moutliers_iqr\u001b[39m\u001b[38;5;124m'\u001b[39m]][\u001b[38;5;124m'\u001b[39m\u001b[38;5;124mKilometers_Driven\u001b[39m\u001b[38;5;124m'\u001b[39m], \n\u001b[1;32m     10\u001b[0m          \u001b[38;5;124m'\u001b[39m\u001b[38;5;124mro\u001b[39m\u001b[38;5;124m'\u001b[39m, markersize\u001b[38;5;241m=\u001b[39m\u001b[38;5;241m5\u001b[39m, label\u001b[38;5;241m=\u001b[39m\u001b[38;5;124m'\u001b[39m\u001b[38;5;124mOutliers\u001b[39m\u001b[38;5;124m'\u001b[39m)\n\u001b[1;32m     12\u001b[0m plt\u001b[38;5;241m.\u001b[39mxlabel(\u001b[38;5;124m'\u001b[39m\u001b[38;5;124mRank\u001b[39m\u001b[38;5;124m'\u001b[39m)\n\u001b[1;32m     13\u001b[0m plt\u001b[38;5;241m.\u001b[39mylabel(\u001b[38;5;124m'\u001b[39m\u001b[38;5;124mKilometers_Driven\u001b[39m\u001b[38;5;124m'\u001b[39m)\n",
      "File \u001b[0;32m/Applications/anaconda3/lib/python3.12/site-packages/pandas/core/frame.py:4102\u001b[0m, in \u001b[0;36mDataFrame.__getitem__\u001b[0;34m(self, key)\u001b[0m\n\u001b[1;32m   4100\u001b[0m \u001b[38;5;28;01mif\u001b[39;00m \u001b[38;5;28mself\u001b[39m\u001b[38;5;241m.\u001b[39mcolumns\u001b[38;5;241m.\u001b[39mnlevels \u001b[38;5;241m>\u001b[39m \u001b[38;5;241m1\u001b[39m:\n\u001b[1;32m   4101\u001b[0m     \u001b[38;5;28;01mreturn\u001b[39;00m \u001b[38;5;28mself\u001b[39m\u001b[38;5;241m.\u001b[39m_getitem_multilevel(key)\n\u001b[0;32m-> 4102\u001b[0m indexer \u001b[38;5;241m=\u001b[39m \u001b[38;5;28mself\u001b[39m\u001b[38;5;241m.\u001b[39mcolumns\u001b[38;5;241m.\u001b[39mget_loc(key)\n\u001b[1;32m   4103\u001b[0m \u001b[38;5;28;01mif\u001b[39;00m is_integer(indexer):\n\u001b[1;32m   4104\u001b[0m     indexer \u001b[38;5;241m=\u001b[39m [indexer]\n",
      "File \u001b[0;32m/Applications/anaconda3/lib/python3.12/site-packages/pandas/core/indexes/base.py:3812\u001b[0m, in \u001b[0;36mIndex.get_loc\u001b[0;34m(self, key)\u001b[0m\n\u001b[1;32m   3807\u001b[0m     \u001b[38;5;28;01mif\u001b[39;00m \u001b[38;5;28misinstance\u001b[39m(casted_key, \u001b[38;5;28mslice\u001b[39m) \u001b[38;5;129;01mor\u001b[39;00m (\n\u001b[1;32m   3808\u001b[0m         \u001b[38;5;28misinstance\u001b[39m(casted_key, abc\u001b[38;5;241m.\u001b[39mIterable)\n\u001b[1;32m   3809\u001b[0m         \u001b[38;5;129;01mand\u001b[39;00m \u001b[38;5;28many\u001b[39m(\u001b[38;5;28misinstance\u001b[39m(x, \u001b[38;5;28mslice\u001b[39m) \u001b[38;5;28;01mfor\u001b[39;00m x \u001b[38;5;129;01min\u001b[39;00m casted_key)\n\u001b[1;32m   3810\u001b[0m     ):\n\u001b[1;32m   3811\u001b[0m         \u001b[38;5;28;01mraise\u001b[39;00m InvalidIndexError(key)\n\u001b[0;32m-> 3812\u001b[0m     \u001b[38;5;28;01mraise\u001b[39;00m \u001b[38;5;167;01mKeyError\u001b[39;00m(key) \u001b[38;5;28;01mfrom\u001b[39;00m \u001b[38;5;21;01merr\u001b[39;00m\n\u001b[1;32m   3813\u001b[0m \u001b[38;5;28;01mexcept\u001b[39;00m \u001b[38;5;167;01mTypeError\u001b[39;00m:\n\u001b[1;32m   3814\u001b[0m     \u001b[38;5;66;03m# If we have a listlike key, _check_indexing_error will raise\u001b[39;00m\n\u001b[1;32m   3815\u001b[0m     \u001b[38;5;66;03m#  InvalidIndexError. Otherwise we fall through and re-raise\u001b[39;00m\n\u001b[1;32m   3816\u001b[0m     \u001b[38;5;66;03m#  the TypeError.\u001b[39;00m\n\u001b[1;32m   3817\u001b[0m     \u001b[38;5;28mself\u001b[39m\u001b[38;5;241m.\u001b[39m_check_indexing_error(key)\n",
      "\u001b[0;31mKeyError\u001b[0m: 'outliers_iqr'"
     ]
    },
    {
     "data": {
      "image/png": "[encoded data removed]",
      "text/plain": [
       "<Figure size 1200x600 with 1 Axes>"
      ]
     },
     "metadata": {},
     "output_type": "display_data"
    }
   ],
   "source": [
    "#Handling the outliers and plotting the outliers\n",
    "df = df[(df['Kilometers_Driven'] >= lower_bound) & (df['Kilometers_Driven'] <= upper_bound)]\n",
    "plt.figure(figsize=(12, 6))\n",
    "plt.plot(df.index, \n",
    "         df['Kilometers_Driven'], \n",
    "         label='Kilometers_Driven')\n",
    "\n",
    "plt.plot(df[df['outliers_iqr']].index, \n",
    "         df[df['outliers_iqr']]['Kilometers_Driven'], \n",
    "         'ro', markersize=5, label='Outliers')\n",
    "\n",
    "plt.xlabel('Rank')\n",
    "plt.ylabel('Kilometers_Driven')\n",
    "plt.title('After Outliers Detection using IQR')\n",
    "plt.legend()\n",
    "plt.show()"
   ]
  },
  {
   "cell_type": "code",
   "execution_count": null,
   "id": "9deebbe6-7b59-4a1e-8c60-91e5a04258f1",
   "metadata": {},
   "outputs": [],
   "source": [
    "#fitting the standard scale numerical values only\n",
    "data = df[['Kilometers_Driven', 'Mileage', 'Engine', 'Power', 'Seats',]]\n"
   ]
  },
  {
   "cell_type": "code",
   "execution_count": null,
   "id": "dcab40ed-0762-48be-944e-5b7f4c6eaa76",
   "metadata": {},
   "outputs": [],
   "source": [
    "# Initialize MinMaxScaler\n",
    "scaler = MinMaxScaler()\n",
    "\n",
    "# Apply normalization (transform all numerical columns)\n",
    "normalized_data = scaler.fit_transform(data)\n",
    "\n",
    "# Convert back to DataFrame (optional)\n",
    "data_normalized = pd.DataFrame(normalized_data, columns=data.columns)\n"
   ]
  },
  {
   "cell_type": "code",
   "execution_count": null,
   "id": "fc962c2f-5509-4faa-86fa-97d327d6eee5",
   "metadata": {},
   "outputs": [],
   "source": [
    "categorical_columns = ['Brand', 'Fuel_Type', 'Transmission', 'Owner_Type']\n",
    "encoding_file= df.loc[:,['Brand', 'Fuel_Type','Transmission','Owner_Type']]\n",
    "label_encoder = LabelEncoder()\n",
    "for col in categorical_columns:\n",
    "    encoding_file[col] = label_encoder.fit_transform(encoding_file[col])\n"
   ]
  },
  {
   "cell_type": "code",
   "execution_count": null,
   "id": "0336dc18-5ed3-41ed-a09a-c298a993632c",
   "metadata": {},
   "outputs": [],
   "source": [
    "#Define independent and dependent variable\n",
    "X = df[['Kilometers_Driven', 'Mileage', 'Engine', 'Power', 'Seats',]]\n",
    "y = df[\"Price\"] # (y-dependent)\n"
   ]
  },
  {
   "cell_type": "code",
   "execution_count": null,
   "id": "44992ff7-735f-4ce3-9862-90820be2c674",
   "metadata": {},
   "outputs": [],
   "source": [
    "df"
   ]
  },
  {
   "cell_type": "code",
   "execution_count": null,
   "id": "893c964f-12eb-4ea4-b3c8-e0e883d30e31",
   "metadata": {},
   "outputs": [],
   "source": [
    "\n",
    "# Split the dataset\n",
    "X_train, X_test, y_train, y_test = train_test_split(X, y, test_size=0.2, random_state=42)\n",
    "\n",
    "# Display the shape of the splits\n",
    "print(f\"Training features shape: {X_train.shape}\")\n",
    "print(f\"Testing features shape: {X_test.shape}\")\n",
    "print(f\"Training target shape: {y_train.shape}\")\n",
    "print(f\"Testing target shape: {y_test.shape}\")\n"
   ]
  },
  {
   "cell_type": "code",
   "execution_count": null,
   "id": "6f56e633-210e-4f63-967b-80f325ff5c84",
   "metadata": {},
   "outputs": [],
   "source": [
    "# Compute the correlation matrix\n",
    "corr_matrix = df[['Kilometers_Driven','Mileage', 'Engine', 'Power', 'Seats',]].corr()\n",
    "\n",
    "# Plot the correlation matrix\n",
    "plt.figure(figsize=(8, 6))\n",
    "sns.heatmap(corr_matrix, annot=True, cmap='coolwarm', fmt='.2f')\n",
    "plt.title('Correlation Matrix')\n",
    "plt.show()"
   ]
  },
  {
   "cell_type": "code",
   "execution_count": null,
   "id": "d200154c-4c02-41f9-b1a1-a45495fac1f5",
   "metadata": {},
   "outputs": [],
   "source": [
    "# Compute the correlation matrix\n",
    "corr_matrix = df[['Kilometers_Driven','Mileage', 'Engine', 'Power', 'Seats','Price']].corr()\n",
    "\n",
    "# Plot the correlation matrix\n",
    "plt.figure(figsize=(8, 6))\n",
    "sns.heatmap(corr_matrix, annot=True, cmap='coolwarm', fmt='.2f')\n",
    "plt.title('Correlation Matrix')\n",
    "plt.show()"
   ]
  },
  {
   "cell_type": "code",
   "execution_count": 14,
   "id": "5c73345a-a2d5-435d-8780-2770a72e2f54",
   "metadata": {},
   "outputs": [
    {
     "ename": "NameError",
     "evalue": "name 'X_train' is not defined",
     "output_type": "error",
     "traceback": [
      "\u001b[0;31m---------------------------------------------------------------------------\u001b[0m",
      "\u001b[0;31mNameError\u001b[0m                                 Traceback (most recent call last)",
      "Cell \u001b[0;32mIn[14], line 10\u001b[0m\n\u001b[1;32m      7\u001b[0m linear_model \u001b[38;5;241m=\u001b[39m LinearRegression()\n\u001b[1;32m      9\u001b[0m \u001b[38;5;66;03m# Train the model on the training dataset\u001b[39;00m\n\u001b[0;32m---> 10\u001b[0m linear_model\u001b[38;5;241m.\u001b[39mfit(X_train, y_train)\n\u001b[1;32m     12\u001b[0m \u001b[38;5;66;03m# Predict the target variable for the test dataset\u001b[39;00m\n\u001b[1;32m     13\u001b[0m y_pred_linear \u001b[38;5;241m=\u001b[39m linear_model\u001b[38;5;241m.\u001b[39mpredict(X_test)\n",
      "\u001b[0;31mNameError\u001b[0m: name 'X_train' is not defined"
     ]
    }
   ],
   "source": [
    "# Note: Linear Regression serves as a baseline model for comparison with Ridge and Lasso.\n",
    "from sklearn.linear_model import LinearRegression\n",
    "from sklearn.metrics import mean_absolute_error, mean_squared_error, r2_score\n",
    "import numpy as np\n",
    "\n",
    "# 1Initialize the Linear Regression Model\n",
    "linear_model = LinearRegression()\n",
    "\n",
    "# Train the model on the training dataset\n",
    "linear_model.fit(X_train, y_train)\n",
    "\n",
    "# Predict the target variable for the test dataset\n",
    "y_pred_linear = linear_model.predict(X_test)\n",
    "\n",
    "# Evaluate the Model Performance using MAE, RMSE, and R²\n",
    "linear_mae = mean_absolute_error(y_test, y_pred_linear)  # Mean Absolute Error\n",
    "linear_mse = mean_squared_error(y_test, y_pred_linear)   # Mean Squared Error\n",
    "linear_rmse = np.sqrt(linear_mse)  # Root Mean Squared Error\n",
    "linear_r2 = r2_score(y_test, y_pred_linear)  # R^2 Score\n",
    "\n",
    "# Print the Evaluation Results\n",
    "print(\"Linear Regression Model Evaluation:\")\n",
    "print(f\"Mean Absolute Error (MAE): {linear_mae:.2f}\")\n",
    "print(f\"Root Mean Squared Error (RMSE): {linear_rmse:.2f}\")\n",
    "print(f\"R² Score: {linear_r2:.2f}\")"
   ]
  },
  {
   "cell_type": "code",
   "execution_count": 16,
   "id": "ce4fba6b-303f-4f3a-a4e2-6ae9e1d5fb77",
   "metadata": {},
   "outputs": [
    {
     "ename": "NameError",
     "evalue": "name 'X_train' is not defined",
     "output_type": "error",
     "traceback": [
      "\u001b[0;31m---------------------------------------------------------------------------\u001b[0m",
      "\u001b[0;31mNameError\u001b[0m                                 Traceback (most recent call last)",
      "Cell \u001b[0;32mIn[16], line 3\u001b[0m\n\u001b[1;32m      1\u001b[0m \u001b[38;5;66;03m# Ridge Regression Model\u001b[39;00m\n\u001b[1;32m      2\u001b[0m ridge \u001b[38;5;241m=\u001b[39m Ridge(alpha\u001b[38;5;241m=\u001b[39m\u001b[38;5;241m1.0\u001b[39m)\n\u001b[0;32m----> 3\u001b[0m ridge\u001b[38;5;241m.\u001b[39mfit(X_train, y_train)\n\u001b[1;32m      4\u001b[0m y_pred_ridge \u001b[38;5;241m=\u001b[39m ridge\u001b[38;5;241m.\u001b[39mpredict(X_test)\n\u001b[1;32m      6\u001b[0m \u001b[38;5;66;03m# Evaluation\u001b[39;00m\n",
      "\u001b[0;31mNameError\u001b[0m: name 'X_train' is not defined"
     ]
    }
   ],
   "source": [
    "# Ridge Regression Model\n",
    "ridge = Ridge(alpha=1.0)\n",
    "ridge.fit(X_train, y_train)\n",
    "y_pred_ridge = ridge.predict(X_test)\n",
    "\n",
    "# Evaluation\n",
    "ridge_mae = mean_absolute_error(y_test, y_pred_ridge)\n",
    "mse = mean_squared_error(y_test, y_pred_ridge)\n",
    "rmse = np.sqrt(mse)  # Calculating RMSE\n",
    "r2 = r2_score(y_test, y_pred_ridge)\n",
    "\n",
    "# Print Evaluation Metrics\n",
    "print(\"Ridge Regression Model Evaluation:\")\n",
    "print(f\"Mean Squared Error (MSE): {mse:.2f}\")\n",
    "print(f\"Root Mean Squared Error (RMSE): {rmse:.2f}\")\n",
    "print(f\"R-squared Score: {r2:.2f}\")\n",
    "print(f\"Mean Absolute Error (MAE): {ridge_mae:.2f}\")\n"
   ]
  },
  {
   "cell_type": "code",
   "execution_count": 63,
   "id": "c2cafc79-c3bc-405d-ba48-19083ea52666",
   "metadata": {},
   "outputs": [
    {
     "name": "stdout",
     "output_type": "stream",
     "text": [
      "\n",
      "Lasso Regression Model Evaluation:\n",
      "Mean Absolute Error (MAE): 426312.23\n",
      "Mean Squared Error (MSE): 240222480538.66\n",
      "Root Mean Squared Error (RMSE): 490124.96\n",
      "R-squared Score: 0.78\n"
     ]
    }
   ],
   "source": [
    "# Lasso Regression\n",
    "lasso = Lasso(alpha=0.1)\n",
    "lasso.fit(X_train, y_train)\n",
    "y_pred_lasso = lasso.predict(X_test)\n",
    "\n",
    "# Evaluation\n",
    "print(\"\\nLasso Regression Model Evaluation:\")\n",
    "lasso_mae = mean_absolute_error(y_test, y_pred_lasso)\n",
    "mse = mean_squared_error(y_test, y_pred_lasso)\n",
    "rmse = np.sqrt(mse)  \n",
    "r2 = r2_score(y_test, y_pred_lasso)\n",
    "\n",
    "# Print results\n",
    "print(f\"Mean Absolute Error (MAE): {lasso_mae:.2f}\")\n",
    "print(f\"Mean Squared Error (MSE): {mse:.2f}\")\n",
    "print(f\"Root Mean Squared Error (RMSE): {rmse:.2f}\")\n",
    "print(f\"R-squared Score: {r2:.2f}\")"
   ]
  },
  {
   "cell_type": "code",
   "execution_count": 65,
   "id": "1837a3db-e6ff-4278-b8d3-63ce951d4e8f",
   "metadata": {},
   "outputs": [],
   "source": [
    "#b)\tImplement hyperparameter tuning by conducting a grid search or random search to optimize model parameters. \n",
    "# Clearly outline the hyperparameters you tuned and the rationale behind them."
   ]
  },
  {
   "cell_type": "code",
   "execution_count": 76,
   "id": "1018ca69-f999-4d16-b005-bbaa0212dc14",
   "metadata": {
    "scrolled": true
   },
   "outputs": [
    {
     "data": {
      "text/plain": [
       "{'alpha': array([1.00000000e-03, 1.32571137e-03, 1.75751062e-03, 2.32995181e-03,\n",
       "        3.08884360e-03, 4.09491506e-03, 5.42867544e-03, 7.19685673e-03,\n",
       "        9.54095476e-03, 1.26485522e-02, 1.67683294e-02, 2.22299648e-02,\n",
       "        2.94705170e-02, 3.90693994e-02, 5.17947468e-02, 6.86648845e-02,\n",
       "        9.10298178e-02, 1.20679264e-01, 1.59985872e-01, 2.12095089e-01,\n",
       "        2.81176870e-01, 3.72759372e-01, 4.94171336e-01, 6.55128557e-01,\n",
       "        8.68511374e-01, 1.15139540e+00, 1.52641797e+00, 2.02358965e+00,\n",
       "        2.68269580e+00, 3.55648031e+00, 4.71486636e+00, 6.25055193e+00,\n",
       "        8.28642773e+00, 1.09854114e+01, 1.45634848e+01, 1.93069773e+01,\n",
       "        2.55954792e+01, 3.39322177e+01, 4.49843267e+01, 5.96362332e+01,\n",
       "        7.90604321e+01, 1.04811313e+02, 1.38949549e+02, 1.84206997e+02,\n",
       "        2.44205309e+02, 3.23745754e+02, 4.29193426e+02, 5.68986603e+02,\n",
       "        7.54312006e+02, 1.00000000e+03])}"
      ]
     },
     "execution_count": 76,
     "metadata": {},
     "output_type": "execute_result"
    }
   ],
   "source": [
    "#Question b\n",
    "#Defining the alpha Hyperparameter Grid\n",
    "param_grid = {'alpha': np.logspace(-3, 3, 50)}\n",
    "#Generates a range of alpha values from 0.001 to 1000, spaced logarithmically.\n",
    "param_grid"
   ]
  },
  {
   "cell_type": "code",
   "execution_count": null,
   "id": "99594a1f-7a76-4f90-a69e-688f61135902",
   "metadata": {},
   "outputs": [],
   "source": []
  },
  {
   "cell_type": "code",
   "execution_count": 71,
   "id": "6ffa1029-47be-4aa8-a070-34e935fe8e98",
   "metadata": {},
   "outputs": [
    {
     "name": "stdout",
     "output_type": "stream",
     "text": [
      "Best Alpha for Ridge (Grid Search): 4.714866363457395\n",
      "Best Alpha for Ridge (Random Search): 4.714866363457395\n"
     ]
    }
   ],
   "source": [
    "#Option 1: Apply Grid Search with Ridge Regression\n",
    "\n",
    "# Define Ridge model\n",
    "ridge = Ridge()\n",
    "\n",
    "# Perform Grid Search\n",
    "ridge_grid_search = GridSearchCV(estimator=ridge, param_grid=param_grid, cv=5, scoring='neg_mean_squared_error')\n",
    "ridge_grid_search.fit(X_train, y_train)\n",
    "\n",
    "# Store the best alpha for later use\n",
    "best_alpha_ridge = ridge_grid_search.best_params_['alpha']\n",
    "print(\"Best Alpha for Ridge (Grid Search):\", best_alpha_ridge)\n",
    "best_ridge = ridge_grid_search.best_estimator_  # Store the best Ridge model\n",
    "\n",
    "# Perform Random Search with 20 iterations\n",
    "ridge_random_search = RandomizedSearchCV(estimator=ridge, param_distributions=param_grid, n_iter=20, cv=5, scoring='neg_mean_squared_error', random_state=42)\n",
    "ridge_random_search.fit(X_train, y_train)\n",
    "\n",
    "# Store the best alpha for later use\n",
    "best_alpha_ridge = ridge_random_search.best_params_['alpha']\n",
    "print(\"Best Alpha for Ridge (Random Search):\", best_alpha_ridge)\n",
    "best_ridge = ridge_random_search.best_estimator_  # Store the best Ridge model"
   ]
  },
  {
   "cell_type": "code",
   "execution_count": 88,
   "id": "ad5b4e39-6e78-428e-9121-94770a6f7c4b",
   "metadata": {},
   "outputs": [
    {
     "name": "stdout",
     "output_type": "stream",
     "text": [
      "Best Alpha for Lasso (Grid Search): 0.001\n",
      "Best Alpha for Lasso (Random Search): 0.002329951810515372\n"
     ]
    }
   ],
   "source": [
    "#Option 3: Apply Grid Search with Lasso Regressio\n",
    "\n",
    "# Define Lasso model\n",
    "lasso = Lasso()\n",
    "\n",
    "# Perform Grid Search\n",
    "lasso_grid_search = GridSearchCV(estimator=lasso, param_grid=param_grid, cv=5, scoring='neg_mean_squared_error')\n",
    "lasso_grid_search.fit(X_train, y_train)\n",
    "\n",
    "# Store the best alpha for later use\n",
    "best_alpha_lasso = lasso_grid_search.best_params_['alpha']\n",
    "print(\"Best Alpha for Lasso (Grid Search):\", best_alpha_lasso)\n",
    "best_lasso = lasso_grid_search.best_estimator_  # Store the best Lasso model\n",
    "\n",
    "# Perform Random Search with 20 iterations\n",
    "lasso_random_search = RandomizedSearchCV(estimator=lasso, param_distributions=param_grid, n_iter=20, cv=5, scoring='neg_mean_squared_error', random_state=42)\n",
    "lasso_random_search.fit(X_train, y_train)\n",
    "\n",
    "# Store the best alpha for later use\n",
    "best_alpha_lasso = lasso_random_search.best_params_['alpha']\n",
    "print(\"Best Alpha for Lasso (Random Search):\", best_alpha_lasso)\n",
    "\n",
    "best_lasso = lasso_random_search.best_estimator_  # Store the best Lasso model"
   ]
  },
  {
   "cell_type": "code",
   "execution_count": 90,
   "id": "dada754b-4d42-4184-9499-f99858074fba",
   "metadata": {},
   "outputs": [
    {
     "name": "stdout",
     "output_type": "stream",
     "text": [
      "Best Alpha for Ridge: 4.714866363457395\n",
      "Best Alpha for Lasso: 0.001\n",
      "Ridge Regression model trained successfully.\n",
      "Lasso Regression model trained successfully.\n"
     ]
    }
   ],
   "source": [
    "# Step 1: These best alpha values were obtained from Question (b)\n",
    "best_alpha_ridge = ridge_grid_search.best_params_['alpha']  # Best alpha from Ridge tuning\n",
    "best_alpha_lasso = lasso_grid_search.best_params_['alpha']  # Best alpha from Lasso tuning\n",
    "\n",
    "print(\"Best Alpha for Ridge:\", best_alpha_ridge)\n",
    "print(\"Best Alpha for Lasso:\", best_alpha_lasso)\n",
    "\n",
    "\n",
    "#Step 2: Build the regression models using the training data\n",
    "\n",
    "# Train Ridge Regression using the best alpha\n",
    "ridge_model = Ridge(alpha=best_alpha_ridge)\n",
    "ridge_model.fit(X_train, y_train)\n",
    "print(\"Ridge Regression model trained successfully.\")\n",
    "\n",
    "\n",
    "# Train Lasso Regression using the best alpha\n",
    "lasso_model = Lasso(alpha=best_alpha_lasso)\n",
    "lasso_model.fit(X_train, y_train)\n",
    "\n",
    "print(\"Lasso Regression model trained successfully.\")\n",
    "\n"
   ]
  },
  {
   "cell_type": "code",
   "execution_count": 96,
   "id": "d9e2235f-c88b-4a97-a665-a3967ce9d945",
   "metadata": {},
   "outputs": [
    {
     "name": "stdout",
     "output_type": "stream",
     "text": [
      "\n",
      "Linear Regression 10-Fold Cross-Validation Results:\n",
      "Mean MAE: 460271.43\n",
      "Mean MSE: 355445649198.14\n",
      "Mean RMSE: 596192.63\n",
      "Mean R² Score: 0.52\n"
     ]
    }
   ],
   "source": [
    "from sklearn.model_selection import cross_val_score, KFold\n",
    "from sklearn.linear_model import LinearRegression\n",
    "from sklearn.metrics import make_scorer, mean_absolute_error, mean_squared_error, r2_score\n",
    "import numpy as np\n",
    "\n",
    "# Define 5-Fold Cross-Validation\n",
    "kf = KFold(n_splits=10, shuffle=True, random_state=42)\n",
    "\n",
    "# Initialize Linear Regression model\n",
    "linear_model = LinearRegression()\n",
    "\n",
    "# Define scoring metrics\n",
    "mae_scorer = make_scorer(mean_absolute_error, greater_is_better=False)\n",
    "mse_scorer = make_scorer(mean_squared_error, greater_is_better=False)\n",
    "r2_scorer = make_scorer(r2_score)\n",
    "\n",
    "# Perform Cross-Validation\n",
    "mae_scores = cross_val_score(linear_model, X_train, y_train, cv=kf, scoring=mae_scorer)\n",
    "mse_scores = cross_val_score(linear_model, X_train, y_train, cv=kf, scoring=mse_scorer)\n",
    "r2_scores = cross_val_score(linear_model, X_train, y_train, cv=kf, scoring=r2_scorer)\n",
    "\n",
    "# Calculate mean scores\n",
    "mean_mae = np.mean(-mae_scores)\n",
    "mean_mse = np.mean(-mse_scores)\n",
    "mean_rmse = np.sqrt(mean_mse)\n",
    "mean_r2 = np.mean(r2_scores)\n",
    "\n",
    "# Print Results\n",
    "print(\"\\nLinear Regression 10-Fold Cross-Validation Results:\")\n",
    "print(f\"Mean MAE: {mean_mae:.2f}\")\n",
    "print(f\"Mean MSE: {mean_mse:.2f}\")\n",
    "print(f\"Mean RMSE: {mean_rmse:.2f}\")\n",
    "print(f\"Mean R² Score: {mean_r2:.2f}\")\n"
   ]
  },
  {
   "cell_type": "code",
   "execution_count": 100,
   "id": "46be1b71-1d7b-4ee4-af7d-dc6d129a474c",
   "metadata": {},
   "outputs": [
    {
     "name": "stdout",
     "output_type": "stream",
     "text": [
      "\n",
      "Linear Regression 5-Fold Cross-Validation Results:\n",
      "Mean MAE: 451237.61\n",
      "Mean MSE: 344764640336.04\n",
      "Mean RMSE: 587166.62\n",
      "Mean R² Score: 0.62\n"
     ]
    }
   ],
   "source": [
    "from sklearn.model_selection import cross_val_score, KFold\n",
    "\n",
    "\n",
    "# Define 5-Fold Cross-Validation\n",
    "kf = KFold(n_splits=5, shuffle=True, random_state=42)\n",
    "\n",
    "# Initialize Linear Regression model\n",
    "linear_model = LinearRegression()\n",
    "\n",
    "# Define scoring metrics\n",
    "mae_scorer = make_scorer(mean_absolute_error, greater_is_better=False)\n",
    "mse_scorer = make_scorer(mean_squared_error, greater_is_better=False)\n",
    "r2_scorer = make_scorer(r2_score)\n",
    "\n",
    "# Perform Cross-Validation\n",
    "mae_scores = cross_val_score(linear_model, X_train, y_train, cv=kf, scoring=mae_scorer)\n",
    "mse_scores = cross_val_score(linear_model, X_train, y_train, cv=kf, scoring=mse_scorer)\n",
    "r2_scores = cross_val_score(linear_model, X_train, y_train, cv=kf, scoring=r2_scorer)\n",
    "\n",
    "# Calculate mean scores\n",
    "mean_mae = np.mean(-mae_scores)\n",
    "mean_mse = np.mean(-mse_scores)\n",
    "mean_rmse = np.sqrt(mean_mse)\n",
    "mean_r2 = np.mean(r2_scores)\n",
    "\n",
    "# Print Results\n",
    "print(\"\\nLinear Regression 5-Fold Cross-Validation Results:\")\n",
    "print(f\"Mean MAE: {mean_mae:.2f}\")\n",
    "print(f\"Mean MSE: {mean_mse:.2f}\")\n",
    "print(f\"Mean RMSE: {mean_rmse:.2f}\")\n",
    "print(f\"Mean R² Score: {mean_r2:.2f}\")\n"
   ]
  },
  {
   "cell_type": "code",
   "execution_count": 102,
   "id": "e09aa565-e5d3-4e9b-9abf-7dba4a0037b3",
   "metadata": {},
   "outputs": [
    {
     "name": "stdout",
     "output_type": "stream",
     "text": [
      "\n",
      "Optimized Ridge Regression 5-Fold Cross-Validation Results:\n",
      "Mean MAE: 447752.31\n",
      "Mean MSE: 339113693140.41\n",
      "Mean RMSE: 582334.69\n",
      "Mean R² Score: 0.63\n",
      "\n",
      "Optimized Lasso Regression 5-Fold Cross-Validation Results:\n",
      "Mean MAE: 451237.61\n",
      "Mean MSE: 344764640349.73\n",
      "Mean RMSE: 587166.62\n",
      "Mean R² Score: 0.62\n"
     ]
    }
   ],
   "source": [
    "# Updated Ridge and Lasso with best alpha values\n",
    "best_ridge_alpha = 4.714866363457395\n",
    "best_lasso_alpha = 0.001\n",
    "\n",
    "ridge_model = Ridge(alpha=best_ridge_alpha)\n",
    "lasso_model = Lasso(alpha=best_lasso_alpha)\n",
    "\n",
    "# Perform Cross-Validation again\n",
    "ridge_mae_scores = cross_val_score(ridge_model, X_train, y_train, cv=kf, scoring=mae_scorer)\n",
    "ridge_mse_scores = cross_val_score(ridge_model, X_train, y_train, cv=kf, scoring=mse_scorer)\n",
    "ridge_r2_scores = cross_val_score(ridge_model, X_train, y_train, cv=kf, scoring=r2_scorer)\n",
    "\n",
    "lasso_mae_scores = cross_val_score(lasso_model, X_train, y_train, cv=kf, scoring=mae_scorer)\n",
    "lasso_mse_scores = cross_val_score(lasso_model, X_train, y_train, cv=kf, scoring=mse_scorer)\n",
    "lasso_r2_scores = cross_val_score(lasso_model, X_train, y_train, cv=kf, scoring=r2_scorer)\n",
    "\n",
    "# Calculate mean scores for Ridge\n",
    "ridge_mean_mae = np.mean(-ridge_mae_scores)\n",
    "ridge_mean_mse = np.mean(-ridge_mse_scores)\n",
    "ridge_mean_rmse = np.sqrt(ridge_mean_mse)\n",
    "ridge_mean_r2 = np.mean(ridge_r2_scores)\n",
    "\n",
    "# Calculate mean scores for Lasso\n",
    "lasso_mean_mae = np.mean(-lasso_mae_scores)\n",
    "lasso_mean_mse = np.mean(-lasso_mse_scores)\n",
    "lasso_mean_rmse = np.sqrt(lasso_mean_mse)\n",
    "lasso_mean_r2 = np.mean(lasso_r2_scores)\n",
    "\n",
    "# Print Updated Ridge Results\n",
    "print(\"\\nOptimized Ridge Regression 5-Fold Cross-Validation Results:\")\n",
    "print(f\"Mean MAE: {ridge_mean_mae:.2f}\")\n",
    "print(f\"Mean MSE: {ridge_mean_mse:.2f}\")\n",
    "print(f\"Mean RMSE: {ridge_mean_rmse:.2f}\")\n",
    "print(f\"Mean R² Score: {ridge_mean_r2:.2f}\")\n",
    "\n",
    "# Print Updated Lasso Results\n",
    "print(\"\\nOptimized Lasso Regression 5-Fold Cross-Validation Results:\")\n",
    "print(f\"Mean MAE: {lasso_mean_mae:.2f}\")\n",
    "print(f\"Mean MSE: {lasso_mean_mse:.2f}\")\n",
    "print(f\"Mean RMSE: {lasso_mean_rmse:.2f}\")\n",
    "print(f\"Mean R² Score: {lasso_mean_r2:.2f}\")\n"
   ]
  },
  {
   "cell_type": "code",
   "execution_count": 108,
   "id": "08f45694-bd5e-4985-98d8-ac083126d745",
   "metadata": {},
   "outputs": [
    {
     "name": "stdout",
     "output_type": "stream",
     "text": [
      "\n",
      "Optimized Ridge Regression 5-Fold Cross-Validation Results:\n",
      "Mean MAE: 447752.31\n",
      "Mean MSE: 339113693140.41\n",
      "Mean RMSE: 582334.69\n",
      "Mean R² Score: 0.63\n",
      "\n",
      "Optimized Lasso Regression 5-Fold Cross-Validation Results:\n",
      "Mean MAE: 451237.61\n",
      "Mean MSE: 344764640349.73\n",
      "Mean RMSE: 587166.62\n",
      "Mean R² Score: 0.62\n"
     ]
    }
   ],
   "source": [
    "from sklearn.model_selection import cross_val_score, KFold\n",
    "from sklearn.linear_model import Ridge, Lasso\n",
    "from sklearn.metrics import make_scorer, mean_absolute_error, mean_squared_error, r2_score\n",
    "import numpy as np\n",
    "\n",
    "# Define 10-Fold Cross-Validation\n",
    "kf = KFold(n_splits=5, shuffle=True, random_state=42)\n",
    "\n",
    "# Updated Ridge and Lasso models with best alpha values\n",
    "best_ridge_alpha = 4.714866363457395\n",
    "best_lasso_alpha = 0.001\n",
    "\n",
    "ridge_model = Ridge(alpha=best_ridge_alpha)\n",
    "lasso_model = Lasso(alpha=best_lasso_alpha)\n",
    "\n",
    "# Define scoring metrics\n",
    "mae_scorer = make_scorer(mean_absolute_error, greater_is_better=False)\n",
    "mse_scorer = make_scorer(mean_squared_error, greater_is_better=False)\n",
    "r2_scorer = make_scorer(r2_score)\n",
    "\n",
    "# Perform Cross-Validation for Ridge Regression\n",
    "ridge_mae_scores = cross_val_score(ridge_model, X_train, y_train, cv=kf, scoring=mae_scorer)\n",
    "ridge_mse_scores = cross_val_score(ridge_model, X_train, y_train, cv=kf, scoring=mse_scorer)\n",
    "ridge_r2_scores = cross_val_score(ridge_model, X_train, y_train, cv=kf, scoring=r2_scorer)\n",
    "\n",
    "# Perform Cross-Validation for Lasso Regression\n",
    "lasso_mae_scores = cross_val_score(lasso_model, X_train, y_train, cv=kf, scoring=mae_scorer)\n",
    "lasso_mse_scores = cross_val_score(lasso_model, X_train, y_train, cv=kf, scoring=mse_scorer)\n",
    "lasso_r2_scores = cross_val_score(lasso_model, X_train, y_train, cv=kf, scoring=r2_scorer)\n",
    "\n",
    "# Calculate mean scores for Ridge\n",
    "ridge_mean_mae = np.mean(-ridge_mae_scores)\n",
    "ridge_mean_mse = np.mean(-ridge_mse_scores)\n",
    "ridge_mean_rmse = np.sqrt(ridge_mean_mse)\n",
    "ridge_mean_r2 = np.mean(ridge_r2_scores)\n",
    "\n",
    "# Calculate mean scores for Lasso\n",
    "lasso_mean_mae = np.mean(-lasso_mae_scores)\n",
    "lasso_mean_mse = np.mean(-lasso_mse_scores)\n",
    "lasso_mean_rmse = np.sqrt(lasso_mean_mse)\n",
    "lasso_mean_r2 = np.mean(lasso_r2_scores)\n",
    "\n",
    "# Print Updated Ridge Results\n",
    "print(\"\\nOptimized Ridge Regression 5-Fold Cross-Validation Results:\")\n",
    "print(f\"Mean MAE: {ridge_mean_mae:.2f}\")\n",
    "print(f\"Mean MSE: {ridge_mean_mse:.2f}\")\n",
    "print(f\"Mean RMSE: {ridge_mean_rmse:.2f}\")\n",
    "print(f\"Mean R² Score: {ridge_mean_r2:.2f}\")\n",
    "\n",
    "# Print Updated Lasso Results\n",
    "print(\"\\nOptimized Lasso Regression 5-Fold Cross-Validation Results:\")\n",
    "print(f\"Mean MAE: {lasso_mean_mae:.2f}\")\n",
    "print(f\"Mean MSE: {lasso_mean_mse:.2f}\")\n",
    "print(f\"Mean RMSE: {lasso_mean_rmse:.2f}\")\n",
    "print(f\"Mean R² Score: {lasso_mean_r2:.2f}\")\n"
   ]
  },
  {
   "cell_type": "code",
   "execution_count": 118,
   "id": "eeab6022-ead9-4e86-a4bc-7d0bc422de5c",
   "metadata": {},
   "outputs": [
    {
     "name": "stdout",
     "output_type": "stream",
     "text": [
      "\n",
      "Optimized Ridge Regression 10-Fold Cross-Validation Results:\n",
      "Mean MAE (10-Fold): 458318.12\n",
      "Mean MSE (10-Fold): 351448779340.67\n",
      "Mean RMSE (10-Fold): 592831.16\n",
      "Mean R² Score (10-Fold): 0.53\n",
      "\n",
      "Optimized Lasso Regression 10-Fold Cross-Validation Results:\n",
      "Mean MAE (10-Fold): 460271.43\n",
      "Mean MSE (10-Fold): 355445649306.58\n",
      "Mean RMSE (10-Fold): 596192.63\n",
      "Mean R² Score (10-Fold): 0.52\n"
     ]
    }
   ],
   "source": [
    "from sklearn.model_selection import cross_val_score, KFold\n",
    "from sklearn.linear_model import Ridge, Lasso\n",
    "from sklearn.metrics import make_scorer, mean_absolute_error, mean_squared_error, r2_score\n",
    "import numpy as np\n",
    "\n",
    "# Define 10-Fold Cross-Validation\n",
    "kf = KFold(n_splits=10, shuffle=True, random_state=42)\n",
    "\n",
    "# Updated Ridge and Lasso models with best alpha values\n",
    "best_ridge_alpha = 4.714866363457395\n",
    "best_lasso_alpha = 0.001\n",
    "\n",
    "ridge_model = Ridge(alpha=best_ridge_alpha)\n",
    "lasso_model = Lasso(alpha=best_lasso_alpha)\n",
    "\n",
    "# Define scoring metrics\n",
    "mae_scorer = make_scorer(mean_absolute_error, greater_is_better=False)\n",
    "mse_scorer = make_scorer(mean_squared_error, greater_is_better=False)\n",
    "r2_scorer = make_scorer(r2_score)\n",
    "\n",
    "# Perform Cross-Validation for Ridge Regression\n",
    "ridge_mae_scores = cross_val_score(ridge_model, X_train, y_train, cv=kf, scoring=mae_scorer)\n",
    "ridge_mse_scores = cross_val_score(ridge_model, X_train, y_train, cv=kf, scoring=mse_scorer)\n",
    "ridge_r2_scores = cross_val_score(ridge_model, X_train, y_train, cv=kf, scoring=r2_scorer)\n",
    "\n",
    "# Perform Cross-Validation for Lasso Regression\n",
    "lasso_mae_scores = cross_val_score(lasso_model, X_train, y_train, cv=kf, scoring=mae_scorer)\n",
    "lasso_mse_scores = cross_val_score(lasso_model, X_train, y_train, cv=kf, scoring=mse_scorer)\n",
    "lasso_r2_scores = cross_val_score(lasso_model, X_train, y_train, cv=kf, scoring=r2_scorer)\n",
    "\n",
    "# Calculate mean scores for Ridge\n",
    "ridge_mean_mae = np.mean(-ridge_mae_scores)\n",
    "ridge_mean_mse = np.mean(-ridge_mse_scores)\n",
    "ridge_mean_rmse = np.sqrt(ridge_mean_mse)\n",
    "ridge_mean_r2 = np.mean(ridge_r2_scores)\n",
    "\n",
    "# Calculate mean scores for Lasso\n",
    "lasso_mean_mae = np.mean(-lasso_mae_scores)\n",
    "lasso_mean_mse = np.mean(-lasso_mse_scores)\n",
    "lasso_mean_rmse = np.sqrt(lasso_mean_mse)\n",
    "lasso_mean_r2 = np.mean(lasso_r2_scores)\n",
    "\n",
    "# Print Updated Ridge Results with 10-Fold Identifier\n",
    "print(\"\\nOptimized Ridge Regression 10-Fold Cross-Validation Results:\")\n",
    "print(f\"Mean MAE (10-Fold): {ridge_mean_mae:.2f}\")\n",
    "print(f\"Mean MSE (10-Fold): {ridge_mean_mse:.2f}\")\n",
    "print(f\"Mean RMSE (10-Fold): {ridge_mean_rmse:.2f}\")\n",
    "print(f\"Mean R² Score (10-Fold): {ridge_mean_r2:.2f}\")\n",
    "\n",
    "# Print Updated Lasso Results with 10-Fold Identifier\n",
    "print(\"\\nOptimized Lasso Regression 10-Fold Cross-Validation Results:\")\n",
    "print(f\"Mean MAE (10-Fold): {lasso_mean_mae:.2f}\")\n",
    "print(f\"Mean MSE (10-Fold): {lasso_mean_mse:.2f}\")\n",
    "print(f\"Mean RMSE (10-Fold): {lasso_mean_rmse:.2f}\")\n",
    "print(f\"Mean R² Score (10-Fold): {lasso_mean_r2:.2f}\")\n"
   ]
  },
  {
   "cell_type": "code",
   "execution_count": 126,
   "id": "6d7fee7b-ce23-4691-a9ef-c938b8220411",
   "metadata": {},
   "outputs": [
    {
     "name": "stdout",
     "output_type": "stream",
     "text": [
      "The best-performing model is: Ridge Regression\n",
      "Justification: Ridge provides better generalization with a more stable performance across different folds. It helps in handling multicollinearity without eliminating any important features.\n"
     ]
    }
   ],
   "source": [
    "#Task 3, question c)\tSelect the best-performing regression model based on hyperparameter tuning and cross- validation results. \n",
    "# Compare models based on cross-validation results\n",
    "\n",
    "# The idea here is that there are three criteria in the matrix to consider when comparing models.\n",
    "# We will count how many times a model satisfies the conditions to be considered better.\n",
    "# Among the three criteria, if a model performs better in at least two of them, we can conclude that it is the better model.\n",
    "# Otherwise, the other model will be considered superior.\n",
    "# Below, we count how many times Lasso performs better than Ridge.\n",
    "\n",
    "lasso_better_count = sum([\n",
    "    lasso_cv_mae < ridge_cv_mae,   # 1 point if True\n",
    "    lasso_cv_rmse < ridge_cv_rmse, # 1 point if True\n",
    "    lasso_cv_r2 > ridge_cv_r2      # 1 point if True\n",
    "])\n",
    "\n",
    "# Choose the best model\n",
    "if lasso_better_count >= 2:  # If Lasso is better in at least 2 metrics\n",
    "    best_model = \"Lasso Regression\"\n",
    "    justification = \"Lasso performs better in terms of lower MAE and RMSE while maintaining a high R² score. Additionally, Lasso helps in feature selection, making the model more interpretable and reducing complexity.\"\n",
    "else:\n",
    "    best_model = \"Ridge Regression\"\n",
    "    justification = \"Ridge provides better generalization with a more stable performance across different folds. It helps in handling multicollinearity without eliminating any important features.\"\n",
    "\n",
    "# Print final decision\n",
    "print(f\"The best-performing model is: {best_model}\")\n",
    "print(f\"Justification: {justification}\")"
   ]
  },
  {
   "cell_type": "code",
   "execution_count": 122,
   "id": "909ee6fa-4942-428f-923f-f580f7175dcb",
   "metadata": {},
   "outputs": [
    {
     "name": "stdout",
     "output_type": "stream",
     "text": [
      "The best-performing model is: Ridge Regression\n",
      "Justification: Ridge provides better generalization with a more stable performance across different folds. It helps in handling multicollinearity without eliminating any important features.\n"
     ]
    }
   ],
   "source": [
    "# Cross-validation metrics for Ridge and Lasso (5-Fold results)\n",
    "lasso_cv_mae = 451237.61  # Mean Absolute Error from 5-fold cross-validation for Lasso\n",
    "ridge_cv_mae = 447752.31  # Mean Absolute Error from 5-fold cross-validation for Ridge\n",
    "\n",
    "lasso_cv_rmse = 587166.62  # RMSE from 5-fold cross-validation for Lasso\n",
    "ridge_cv_rmse = 582334.69  # RMSE from 5-fold cross-validation for Ridge\n",
    "\n",
    "lasso_cv_r2 = 0.62  # R² from 5-fold cross-validation for Lasso\n",
    "ridge_cv_r2 = 0.63  # R² from 5-fold cross-validation for Ridge\n",
    "\n",
    "# Count how many times Lasso performs better than Ridge\n",
    "lasso_better_count = sum([\n",
    "    lasso_cv_mae < ridge_cv_mae,   # 1 point if Lasso has lower MAE\n",
    "    lasso_cv_rmse < ridge_cv_rmse, # 1 point if Lasso has lower RMSE\n",
    "    lasso_cv_r2 > ridge_cv_r2      # 1 point if Lasso has higher R²\n",
    "])\n",
    "\n",
    "# Choose the best model\n",
    "if lasso_better_count >= 2:  # If Lasso is better in at least 2 metrics\n",
    "    best_model = \"Lasso Regression\"\n",
    "    justification = \"Lasso performs better in terms of lower MAE and RMSE while maintaining a high R² score. Additionally, Lasso helps in feature selection, making the model more interpretable and reducing complexity.\"\n",
    "else:\n",
    "    best_model = \"Ridge Regression\"\n",
    "    justification = \"Ridge provides better generalization with a more stable performance across different folds. It helps in handling multicollinearity without eliminating any important features.\"\n",
    "\n",
    "# Print final decision\n",
    "print(f\"The best-performing model is: {best_model}\")\n",
    "print(f\"Justification: {justification}\")\n"
   ]
  },
  {
   "cell_type": "code",
   "execution_count": 124,
   "id": "c888168e-3af2-435e-8b89-a4b5673cd5b0",
   "metadata": {},
   "outputs": [
    {
     "name": "stdout",
     "output_type": "stream",
     "text": [
      "The best-performing model (10-Fold) is: Ridge Regression (10-Fold)\n",
      "Justification (10-Fold): Ridge provides better generalization with a more stable performance across different folds. It helps in handling multicollinearity without eliminating any important features.\n"
     ]
    }
   ],
   "source": [
    "# Cross-validation metrics for Ridge and Lasso (10-Fold results)\n",
    "lasso_cv_mae_10fold = lasso_mean_mae  # Mean Absolute Error from 10-fold cross-validation for Lasso\n",
    "ridge_cv_mae_10fold = ridge_mean_mae  # Mean Absolute Error from 10-fold cross-validation for Ridge\n",
    "\n",
    "lasso_cv_rmse_10fold = lasso_mean_rmse  # RMSE from 10-fold cross-validation for Lasso\n",
    "ridge_cv_rmse_10fold = ridge_mean_rmse  # RMSE from 10-fold cross-validation for Ridge\n",
    "\n",
    "lasso_cv_r2_10fold = lasso_mean_r2  # R² from 10-fold cross-validation for Lasso\n",
    "ridge_cv_r2_10fold = ridge_mean_r2  # R² from 10-fold cross-validation for Ridge\n",
    "\n",
    "# Count how many times Lasso performs better than Ridge for 10-fold cross-validation\n",
    "lasso_better_count_10fold = sum([\n",
    "    lasso_cv_mae_10fold < ridge_cv_mae_10fold,   # 1 point if Lasso has lower MAE\n",
    "    lasso_cv_rmse_10fold < ridge_cv_rmse_10fold, # 1 point if Lasso has lower RMSE\n",
    "    lasso_cv_r2_10fold > ridge_cv_r2_10fold      # 1 point if Lasso has higher R²\n",
    "])\n",
    "\n",
    "# Choose the best model based on 10-fold cross-validation results\n",
    "if lasso_better_count_10fold >= 2:  # If Lasso is better in at least 2 metrics\n",
    "    best_model_10fold = \"Lasso Regression (10-Fold)\"\n",
    "    justification_10fold = \"Lasso performs better in terms of lower MAE and RMSE while maintaining a high R² score. Additionally, Lasso helps in feature selection, making the model more interpretable and reducing complexity.\"\n",
    "else:\n",
    "    best_model_10fold = \"Ridge Regression (10-Fold)\"\n",
    "    justification_10fold = \"Ridge provides better generalization with a more stable performance across different folds. It helps in handling multicollinearity without eliminating any important features.\"\n",
    "\n",
    "# Print final decision for 10-fold cross-validation\n",
    "print(f\"The best-performing model (10-Fold) is: {best_model_10fold}\")\n",
    "print(f\"Justification (10-Fold): {justification_10fold}\")\n"
   ]
  },
  {
   "cell_type": "code",
   "execution_count": null,
   "id": "5e253028-199e-4b3c-840e-b4121aa43637",
   "metadata": {},
   "outputs": [],
   "source": []
  }
 ],
 "metadata": {
  "kernelspec": {
   "display_name": "Python 3 (ipykernel)",
   "language": "python",
   "name": "python3"
  },
  "language_info": {
   "codemirror_mode": {
    "name": "ipython",
    "version": 3
   },
   "file_extension": ".py",
   "mimetype": "text/x-python",
   "name": "python",
   "nbconvert_exporter": "python",
   "pygments_lexer": "ipython3",
   "version": "3.12.4"
  }
 },
 "nbformat": 4,
 "nbformat_minor": 5
}
